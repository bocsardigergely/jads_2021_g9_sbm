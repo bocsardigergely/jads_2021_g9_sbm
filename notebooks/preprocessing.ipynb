{
 "cells": [
  {
   "cell_type": "markdown",
   "metadata": {},
   "source": [
    "## Imports and reading the data"
   ]
  },
  {
   "cell_type": "code",
   "execution_count": 36,
   "metadata": {},
   "outputs": [],
   "source": [
    "import pandas as pd\n",
    "import re\n",
    "from nltk.corpus import stopwords\n",
    "from nltk.stem import WordNetLemmatizer"
   ]
  },
  {
   "cell_type": "code",
   "execution_count": 37,
   "metadata": {},
   "outputs": [],
   "source": [
    "raw_df = pd.read_csv('../data/all_project_week_19_32.csv')\n",
    "cols = ['project_slug', 'Category', 'Location', 'Goal_USD', 'Pledge_USD', 'Number_Backers', 'Staff_recommended' , 'Creator_nb_projects','Project_Community_top_countries','Project_description', 'Deadline', 'Launched_at' ]\n",
    "raw_df = raw_df[cols]\n",
    "raw_df = raw_df.dropna()"
   ]
  },
  {
   "cell_type": "markdown",
   "metadata": {},
   "source": [
    "## Filtering projects that are still running when the data collection happened (2019 aug. 11)"
   ]
  },
  {
   "cell_type": "code",
   "execution_count": 38,
   "metadata": {},
   "outputs": [
    {
     "name": "stdout",
     "output_type": "stream",
     "text": [
      "earliest launch date:  2009-05-06 16:20:07\n",
      "earliest deadline:  2009-06-24 22:26:00\n",
      "latest launch date:  2019-07-30 10:03:18\n",
      "latest deadline:  2019-09-28 08:11:41\n"
     ]
    }
   ],
   "source": [
    "# getting rid on unix timestamps\n",
    "raw_df['end_date'] = pd.to_datetime(raw_df['Deadline'], unit='s', origin='unix')\n",
    "raw_df['launch_date'] = pd.to_datetime(raw_df['Launched_at'], unit='s', origin='unix')\n",
    "\n",
    "# Exploring how the launch- and end-dates look like in the dataset\n",
    "print('earliest launch date: ', raw_df['launch_date'].min())\n",
    "print('earliest deadline: ', raw_df['end_date'].min())\n",
    "print('latest launch date: ', raw_df['launch_date'].max())\n",
    "print('latest deadline: ', raw_df['end_date'].max())\n"
   ]
  },
  {
   "cell_type": "code",
   "execution_count": 39,
   "metadata": {},
   "outputs": [
    {
     "data": {
      "text/plain": [
       "Index(['project_slug', 'Category', 'Location', 'Goal_USD', 'Pledge_USD',\n",
       "       'Number_Backers', 'Staff_recommended', 'Creator_nb_projects',\n",
       "       'Project_Community_top_countries', 'Project_description'],\n",
       "      dtype='object')"
      ]
     },
     "execution_count": 39,
     "metadata": {},
     "output_type": "execute_result"
    }
   ],
   "source": [
    "# filtering on date of collection\n",
    "cutoff_date = pd.Timestamp(year=2019, month=8, day=11, hour=0)\n",
    "raw_df = raw_df[ raw_df['end_date'] < cutoff_date ]\n",
    "raw_df = raw_df.drop(columns=['Deadline', 'Launched_at', 'launch_date', 'end_date'])\n",
    "raw_df.columns"
   ]
  },
  {
   "cell_type": "markdown",
   "metadata": {},
   "source": [
    "## Creating target variable and adjusting other attributes"
   ]
  },
  {
   "cell_type": "markdown",
   "metadata": {},
   "source": [
    "### Gettint the top countries by backers and location"
   ]
  },
  {
   "cell_type": "code",
   "execution_count": 40,
   "metadata": {},
   "outputs": [
    {
     "data": {
      "text/html": [
       "<div>\n",
       "<style scoped>\n",
       "    .dataframe tbody tr th:only-of-type {\n",
       "        vertical-align: middle;\n",
       "    }\n",
       "\n",
       "    .dataframe tbody tr th {\n",
       "        vertical-align: top;\n",
       "    }\n",
       "\n",
       "    .dataframe thead th {\n",
       "        text-align: right;\n",
       "    }\n",
       "</style>\n",
       "<table border=\"1\" class=\"dataframe\">\n",
       "  <thead>\n",
       "    <tr style=\"text-align: right;\">\n",
       "      <th></th>\n",
       "      <th>project_slug</th>\n",
       "      <th>Category</th>\n",
       "      <th>Location</th>\n",
       "      <th>Goal_USD</th>\n",
       "      <th>Pledge_USD</th>\n",
       "      <th>Number_Backers</th>\n",
       "      <th>Staff_recommended</th>\n",
       "      <th>Creator_nb_projects</th>\n",
       "      <th>Project_Community_top_countries</th>\n",
       "      <th>Project_description</th>\n",
       "      <th>top_country</th>\n",
       "      <th>location</th>\n",
       "    </tr>\n",
       "  </thead>\n",
       "  <tbody>\n",
       "    <tr>\n",
       "      <th>0</th>\n",
       "      <td>the-because-black-life-conference-2018</td>\n",
       "      <td>Art</td>\n",
       "      <td>Minneapolis | US</td>\n",
       "      <td>10000.00000</td>\n",
       "      <td>10150.000000</td>\n",
       "      <td>72</td>\n",
       "      <td>True</td>\n",
       "      <td>1.0</td>\n",
       "      <td>|United States:57 backers|Australia:1 backer|S...</td>\n",
       "      <td>The Because Black Life Conference 2018 - This ...</td>\n",
       "      <td>united states</td>\n",
       "      <td>us</td>\n",
       "    </tr>\n",
       "    <tr>\n",
       "      <th>1</th>\n",
       "      <td>petography-illustrations-of-your-pet</td>\n",
       "      <td>Illustration</td>\n",
       "      <td>Victoria | CA</td>\n",
       "      <td>156.13997</td>\n",
       "      <td>645.084479</td>\n",
       "      <td>34</td>\n",
       "      <td>False</td>\n",
       "      <td>5.0</td>\n",
       "      <td>|United States:23 backers|Canada:2 backers|Uni...</td>\n",
       "      <td>Risks and challenges  Having done print focuse...</td>\n",
       "      <td>united states</td>\n",
       "      <td>ca</td>\n",
       "    </tr>\n",
       "    <tr>\n",
       "      <th>2</th>\n",
       "      <td>dessert-cuties-enamel-pins</td>\n",
       "      <td>Art</td>\n",
       "      <td>Boston | US</td>\n",
       "      <td>800.00000</td>\n",
       "      <td>815.000000</td>\n",
       "      <td>33</td>\n",
       "      <td>False</td>\n",
       "      <td>2.0</td>\n",
       "      <td>|United States:24 backers|Australia:1 backer</td>\n",
       "      <td>Who doesn't love cute enamel pins? I madeÂ sev...</td>\n",
       "      <td>united states</td>\n",
       "      <td>us</td>\n",
       "    </tr>\n",
       "    <tr>\n",
       "      <th>3</th>\n",
       "      <td>adorable-deadpool-chibi-sticker</td>\n",
       "      <td>Illustration</td>\n",
       "      <td>Kettering | US</td>\n",
       "      <td>400.00000</td>\n",
       "      <td>870.000000</td>\n",
       "      <td>61</td>\n",
       "      <td>False</td>\n",
       "      <td>12.0</td>\n",
       "      <td>|United States:49 backers|United Kingdom:5 bac...</td>\n",
       "      <td>My name is Melanie (Melbaka) and welcome to my...</td>\n",
       "      <td>united states</td>\n",
       "      <td>us</td>\n",
       "    </tr>\n",
       "    <tr>\n",
       "      <th>4</th>\n",
       "      <td>japanese-mythos-enamel-pins</td>\n",
       "      <td>Art</td>\n",
       "      <td>Minneapolis | US</td>\n",
       "      <td>1050.00000</td>\n",
       "      <td>11069.000000</td>\n",
       "      <td>293</td>\n",
       "      <td>False</td>\n",
       "      <td>5.0</td>\n",
       "      <td>|United States:239 backers|Canada:11 backers|U...</td>\n",
       "      <td>â¦ï¸â¦ï¸â¦ï¸ Information â¦ï¸â¦ï¸â¦...</td>\n",
       "      <td>united states</td>\n",
       "      <td>us</td>\n",
       "    </tr>\n",
       "  </tbody>\n",
       "</table>\n",
       "</div>"
      ],
      "text/plain": [
       "                             project_slug      Category          Location  \\\n",
       "0  the-because-black-life-conference-2018           Art  Minneapolis | US   \n",
       "1    petography-illustrations-of-your-pet  Illustration     Victoria | CA   \n",
       "2              dessert-cuties-enamel-pins           Art       Boston | US   \n",
       "3         adorable-deadpool-chibi-sticker  Illustration    Kettering | US   \n",
       "4             japanese-mythos-enamel-pins           Art  Minneapolis | US   \n",
       "\n",
       "      Goal_USD    Pledge_USD  Number_Backers  Staff_recommended  \\\n",
       "0  10000.00000  10150.000000              72               True   \n",
       "1    156.13997    645.084479              34              False   \n",
       "2    800.00000    815.000000              33              False   \n",
       "3    400.00000    870.000000              61              False   \n",
       "4   1050.00000  11069.000000             293              False   \n",
       "\n",
       "   Creator_nb_projects                    Project_Community_top_countries  \\\n",
       "0                  1.0  |United States:57 backers|Australia:1 backer|S...   \n",
       "1                  5.0  |United States:23 backers|Canada:2 backers|Uni...   \n",
       "2                  2.0       |United States:24 backers|Australia:1 backer   \n",
       "3                 12.0  |United States:49 backers|United Kingdom:5 bac...   \n",
       "4                  5.0  |United States:239 backers|Canada:11 backers|U...   \n",
       "\n",
       "                                 Project_description    top_country location  \n",
       "0  The Because Black Life Conference 2018 - This ...  united states       us  \n",
       "1  Risks and challenges  Having done print focuse...  united states       ca  \n",
       "2  Who doesn't love cute enamel pins? I madeÂ sev...  united states       us  \n",
       "3  My name is Melanie (Melbaka) and welcome to my...  united states       us  \n",
       "4  â¦ï¸â¦ï¸â¦ï¸ Information â¦ï¸â¦ï¸â¦...  united states       us  "
      ]
     },
     "execution_count": 40,
     "metadata": {},
     "output_type": "execute_result"
    }
   ],
   "source": [
    "# getting the top country and location to use as exo variable for STM\n",
    "raw_df['top_country'] = raw_df.apply( lambda row: re.search(r'(?<=\\|)(.*?)(?=\\:)', row['Project_Community_top_countries']).group().lower() if re.search(r'(?<=\\|)(.*?)(?=\\:)', row['Project_Community_top_countries']) is not None else '' , axis=1)\n",
    "raw_df['location'] = raw_df.apply( lambda row: re.search(r'(?<=\\|).*', row['Location']).group().lower().strip() if re.search(r'(?<=\\|).*', row['Location']) is not None else '' , axis=1)\n",
    "raw_df.head()"
   ]
  },
  {
   "cell_type": "markdown",
   "metadata": {},
   "source": [
    "### Calculating the percentage of amount actually pledged"
   ]
  },
  {
   "cell_type": "code",
   "execution_count": 41,
   "metadata": {},
   "outputs": [
    {
     "data": {
      "text/html": [
       "<div>\n",
       "<style scoped>\n",
       "    .dataframe tbody tr th:only-of-type {\n",
       "        vertical-align: middle;\n",
       "    }\n",
       "\n",
       "    .dataframe tbody tr th {\n",
       "        vertical-align: top;\n",
       "    }\n",
       "\n",
       "    .dataframe thead th {\n",
       "        text-align: right;\n",
       "    }\n",
       "</style>\n",
       "<table border=\"1\" class=\"dataframe\">\n",
       "  <thead>\n",
       "    <tr style=\"text-align: right;\">\n",
       "      <th></th>\n",
       "      <th>project_slug</th>\n",
       "      <th>Category</th>\n",
       "      <th>Location</th>\n",
       "      <th>Goal_USD</th>\n",
       "      <th>Pledge_USD</th>\n",
       "      <th>Number_Backers</th>\n",
       "      <th>Staff_recommended</th>\n",
       "      <th>Creator_nb_projects</th>\n",
       "      <th>Project_Community_top_countries</th>\n",
       "      <th>Project_description</th>\n",
       "      <th>top_country</th>\n",
       "      <th>location</th>\n",
       "      <th>pledged_percentage</th>\n",
       "      <th>pledged_binary</th>\n",
       "    </tr>\n",
       "  </thead>\n",
       "  <tbody>\n",
       "    <tr>\n",
       "      <th>0</th>\n",
       "      <td>the-because-black-life-conference-2018</td>\n",
       "      <td>Art</td>\n",
       "      <td>Minneapolis | US</td>\n",
       "      <td>10000.00000</td>\n",
       "      <td>10150.000000</td>\n",
       "      <td>72</td>\n",
       "      <td>True</td>\n",
       "      <td>1.0</td>\n",
       "      <td>|United States:57 backers|Australia:1 backer|S...</td>\n",
       "      <td>The Because Black Life Conference 2018 - This ...</td>\n",
       "      <td>united states</td>\n",
       "      <td>us</td>\n",
       "      <td>1.015000</td>\n",
       "      <td>1</td>\n",
       "    </tr>\n",
       "    <tr>\n",
       "      <th>1</th>\n",
       "      <td>petography-illustrations-of-your-pet</td>\n",
       "      <td>Illustration</td>\n",
       "      <td>Victoria | CA</td>\n",
       "      <td>156.13997</td>\n",
       "      <td>645.084479</td>\n",
       "      <td>34</td>\n",
       "      <td>False</td>\n",
       "      <td>5.0</td>\n",
       "      <td>|United States:23 backers|Canada:2 backers|Uni...</td>\n",
       "      <td>Risks and challenges  Having done print focuse...</td>\n",
       "      <td>united states</td>\n",
       "      <td>ca</td>\n",
       "      <td>4.131450</td>\n",
       "      <td>1</td>\n",
       "    </tr>\n",
       "    <tr>\n",
       "      <th>2</th>\n",
       "      <td>dessert-cuties-enamel-pins</td>\n",
       "      <td>Art</td>\n",
       "      <td>Boston | US</td>\n",
       "      <td>800.00000</td>\n",
       "      <td>815.000000</td>\n",
       "      <td>33</td>\n",
       "      <td>False</td>\n",
       "      <td>2.0</td>\n",
       "      <td>|United States:24 backers|Australia:1 backer</td>\n",
       "      <td>Who doesn't love cute enamel pins? I madeÂ sev...</td>\n",
       "      <td>united states</td>\n",
       "      <td>us</td>\n",
       "      <td>1.018750</td>\n",
       "      <td>1</td>\n",
       "    </tr>\n",
       "    <tr>\n",
       "      <th>3</th>\n",
       "      <td>adorable-deadpool-chibi-sticker</td>\n",
       "      <td>Illustration</td>\n",
       "      <td>Kettering | US</td>\n",
       "      <td>400.00000</td>\n",
       "      <td>870.000000</td>\n",
       "      <td>61</td>\n",
       "      <td>False</td>\n",
       "      <td>12.0</td>\n",
       "      <td>|United States:49 backers|United Kingdom:5 bac...</td>\n",
       "      <td>My name is Melanie (Melbaka) and welcome to my...</td>\n",
       "      <td>united states</td>\n",
       "      <td>us</td>\n",
       "      <td>2.175000</td>\n",
       "      <td>1</td>\n",
       "    </tr>\n",
       "    <tr>\n",
       "      <th>4</th>\n",
       "      <td>japanese-mythos-enamel-pins</td>\n",
       "      <td>Art</td>\n",
       "      <td>Minneapolis | US</td>\n",
       "      <td>1050.00000</td>\n",
       "      <td>11069.000000</td>\n",
       "      <td>293</td>\n",
       "      <td>False</td>\n",
       "      <td>5.0</td>\n",
       "      <td>|United States:239 backers|Canada:11 backers|U...</td>\n",
       "      <td>â¦ï¸â¦ï¸â¦ï¸ Information â¦ï¸â¦ï¸â¦...</td>\n",
       "      <td>united states</td>\n",
       "      <td>us</td>\n",
       "      <td>10.541905</td>\n",
       "      <td>1</td>\n",
       "    </tr>\n",
       "  </tbody>\n",
       "</table>\n",
       "</div>"
      ],
      "text/plain": [
       "                             project_slug      Category          Location  \\\n",
       "0  the-because-black-life-conference-2018           Art  Minneapolis | US   \n",
       "1    petography-illustrations-of-your-pet  Illustration     Victoria | CA   \n",
       "2              dessert-cuties-enamel-pins           Art       Boston | US   \n",
       "3         adorable-deadpool-chibi-sticker  Illustration    Kettering | US   \n",
       "4             japanese-mythos-enamel-pins           Art  Minneapolis | US   \n",
       "\n",
       "      Goal_USD    Pledge_USD  Number_Backers  Staff_recommended  \\\n",
       "0  10000.00000  10150.000000              72               True   \n",
       "1    156.13997    645.084479              34              False   \n",
       "2    800.00000    815.000000              33              False   \n",
       "3    400.00000    870.000000              61              False   \n",
       "4   1050.00000  11069.000000             293              False   \n",
       "\n",
       "   Creator_nb_projects                    Project_Community_top_countries  \\\n",
       "0                  1.0  |United States:57 backers|Australia:1 backer|S...   \n",
       "1                  5.0  |United States:23 backers|Canada:2 backers|Uni...   \n",
       "2                  2.0       |United States:24 backers|Australia:1 backer   \n",
       "3                 12.0  |United States:49 backers|United Kingdom:5 bac...   \n",
       "4                  5.0  |United States:239 backers|Canada:11 backers|U...   \n",
       "\n",
       "                                 Project_description    top_country location  \\\n",
       "0  The Because Black Life Conference 2018 - This ...  united states       us   \n",
       "1  Risks and challenges  Having done print focuse...  united states       ca   \n",
       "2  Who doesn't love cute enamel pins? I madeÂ sev...  united states       us   \n",
       "3  My name is Melanie (Melbaka) and welcome to my...  united states       us   \n",
       "4  â¦ï¸â¦ï¸â¦ï¸ Information â¦ï¸â¦ï¸â¦...  united states       us   \n",
       "\n",
       "   pledged_percentage  pledged_binary  \n",
       "0            1.015000               1  \n",
       "1            4.131450               1  \n",
       "2            1.018750               1  \n",
       "3            2.175000               1  \n",
       "4           10.541905               1  "
      ]
     },
     "execution_count": 41,
     "metadata": {},
     "output_type": "execute_result"
    }
   ],
   "source": [
    "raw_df['pledged_percentage'] = raw_df.apply(  lambda row: float(row['Pledge_USD'])/float(row['Goal_USD'])  , axis=1)\n",
    "raw_df['pledged_binary'] = raw_df.apply(  lambda row:  1 if row['pledged_percentage'] >= 1 else 0, axis=1)\n",
    "raw_df.head()"
   ]
  },
  {
   "cell_type": "code",
   "execution_count": 42,
   "metadata": {},
   "outputs": [
    {
     "data": {
      "text/html": [
       "<div>\n",
       "<style scoped>\n",
       "    .dataframe tbody tr th:only-of-type {\n",
       "        vertical-align: middle;\n",
       "    }\n",
       "\n",
       "    .dataframe tbody tr th {\n",
       "        vertical-align: top;\n",
       "    }\n",
       "\n",
       "    .dataframe thead th {\n",
       "        text-align: right;\n",
       "    }\n",
       "</style>\n",
       "<table border=\"1\" class=\"dataframe\">\n",
       "  <thead>\n",
       "    <tr style=\"text-align: right;\">\n",
       "      <th></th>\n",
       "      <th>project_slug</th>\n",
       "      <th>Category</th>\n",
       "      <th>location</th>\n",
       "      <th>Number_Backers</th>\n",
       "      <th>Creator_nb_projects</th>\n",
       "      <th>Project_description</th>\n",
       "      <th>top_country</th>\n",
       "      <th>pledged_percentage</th>\n",
       "      <th>pledged_binary</th>\n",
       "    </tr>\n",
       "  </thead>\n",
       "  <tbody>\n",
       "    <tr>\n",
       "      <th>0</th>\n",
       "      <td>the-because-black-life-conference-2018</td>\n",
       "      <td>Art</td>\n",
       "      <td>us</td>\n",
       "      <td>72</td>\n",
       "      <td>1.0</td>\n",
       "      <td>The Because Black Life Conference 2018 - This ...</td>\n",
       "      <td>united states</td>\n",
       "      <td>1.015000</td>\n",
       "      <td>1</td>\n",
       "    </tr>\n",
       "    <tr>\n",
       "      <th>1</th>\n",
       "      <td>petography-illustrations-of-your-pet</td>\n",
       "      <td>Illustration</td>\n",
       "      <td>ca</td>\n",
       "      <td>34</td>\n",
       "      <td>5.0</td>\n",
       "      <td>Risks and challenges  Having done print focuse...</td>\n",
       "      <td>united states</td>\n",
       "      <td>4.131450</td>\n",
       "      <td>1</td>\n",
       "    </tr>\n",
       "    <tr>\n",
       "      <th>2</th>\n",
       "      <td>dessert-cuties-enamel-pins</td>\n",
       "      <td>Art</td>\n",
       "      <td>us</td>\n",
       "      <td>33</td>\n",
       "      <td>2.0</td>\n",
       "      <td>Who doesn't love cute enamel pins? I madeÂ sev...</td>\n",
       "      <td>united states</td>\n",
       "      <td>1.018750</td>\n",
       "      <td>1</td>\n",
       "    </tr>\n",
       "    <tr>\n",
       "      <th>3</th>\n",
       "      <td>adorable-deadpool-chibi-sticker</td>\n",
       "      <td>Illustration</td>\n",
       "      <td>us</td>\n",
       "      <td>61</td>\n",
       "      <td>12.0</td>\n",
       "      <td>My name is Melanie (Melbaka) and welcome to my...</td>\n",
       "      <td>united states</td>\n",
       "      <td>2.175000</td>\n",
       "      <td>1</td>\n",
       "    </tr>\n",
       "    <tr>\n",
       "      <th>4</th>\n",
       "      <td>japanese-mythos-enamel-pins</td>\n",
       "      <td>Art</td>\n",
       "      <td>us</td>\n",
       "      <td>293</td>\n",
       "      <td>5.0</td>\n",
       "      <td>â¦ï¸â¦ï¸â¦ï¸ Information â¦ï¸â¦ï¸â¦...</td>\n",
       "      <td>united states</td>\n",
       "      <td>10.541905</td>\n",
       "      <td>1</td>\n",
       "    </tr>\n",
       "  </tbody>\n",
       "</table>\n",
       "</div>"
      ],
      "text/plain": [
       "                             project_slug      Category location  \\\n",
       "0  the-because-black-life-conference-2018           Art       us   \n",
       "1    petography-illustrations-of-your-pet  Illustration       ca   \n",
       "2              dessert-cuties-enamel-pins           Art       us   \n",
       "3         adorable-deadpool-chibi-sticker  Illustration       us   \n",
       "4             japanese-mythos-enamel-pins           Art       us   \n",
       "\n",
       "   Number_Backers  Creator_nb_projects  \\\n",
       "0              72                  1.0   \n",
       "1              34                  5.0   \n",
       "2              33                  2.0   \n",
       "3              61                 12.0   \n",
       "4             293                  5.0   \n",
       "\n",
       "                                 Project_description    top_country  \\\n",
       "0  The Because Black Life Conference 2018 - This ...  united states   \n",
       "1  Risks and challenges  Having done print focuse...  united states   \n",
       "2  Who doesn't love cute enamel pins? I madeÂ sev...  united states   \n",
       "3  My name is Melanie (Melbaka) and welcome to my...  united states   \n",
       "4  â¦ï¸â¦ï¸â¦ï¸ Information â¦ï¸â¦ï¸â¦...  united states   \n",
       "\n",
       "   pledged_percentage  pledged_binary  \n",
       "0            1.015000               1  \n",
       "1            4.131450               1  \n",
       "2            1.018750               1  \n",
       "3            2.175000               1  \n",
       "4           10.541905               1  "
      ]
     },
     "execution_count": 42,
     "metadata": {},
     "output_type": "execute_result"
    }
   ],
   "source": [
    "# getting to the final dataset\n",
    "cols = ['project_slug', 'Category', 'location', 'Number_Backers', 'Creator_nb_projects', 'Project_description', 'top_country', 'pledged_percentage', 'pledged_binary']\n",
    "raw_df = raw_df[cols]\n",
    "raw_df.head()"
   ]
  },
  {
   "cell_type": "markdown",
   "metadata": {},
   "source": [
    "## Slicing dataset up on meta-categories"
   ]
  },
  {
   "cell_type": "code",
   "execution_count": 43,
   "metadata": {},
   "outputs": [],
   "source": [
    "# Defining meta-categories according to kickstarter standards\n",
    "art_meta = ['Art', 'Ceramics', 'Conceptual Art', 'Digital Art', 'Illustration', 'Installations', 'Mixed Media', 'Painting', 'Performance Art', 'Public Art', 'Sculpture', 'Social Practice', 'Textiles', 'Video Art']\n",
    "comics_meta = ['Comics', 'Comic Books', 'Graphic Novels', 'Webcomics']\n",
    "crafts_meta = ['Crafts', 'Candles', 'Crochet', 'DIY', 'Embroidery', 'Glass', 'Knitting', 'Pottery', 'Printing', 'Quilts', 'Stationery', 'Taxidermy', 'Weaving', 'Woodworking']\n",
    "dance_meta = ['Dance', 'Performances', 'Residencies', 'Workshops']\n",
    "design_meta = ['Design', 'Architecture', 'Civic Design', 'Graphic Design', 'Interactive Design', 'Product Design', 'Toys', 'Typography']\n",
    "fashion_meta =['Fashion', 'Accessories', 'Apparel', 'Childrenswear', 'Couture', 'Footwear', 'Jewelry', 'Pet Fashion', 'Ready-to-wear']\n",
    "film_meta = ['Film', 'Film &amp; Video', 'Action', 'Animation', 'Comedy', 'Documentary', 'Drama', 'Experimental', 'Family', 'Fantasy', 'Festivals', 'Horror', 'Movie Theaters', 'Music Videos', 'Narrative Film', 'Romance', 'Science Fiction', 'Shorts', 'Television', 'Thrillers', 'Webseries']\n",
    "food_meta = ['Food', 'Bacon', 'Community Gardens', 'Cookbooks', 'Drinks', 'Farms', 'Food Trucks', 'Food Trucks', 'Restaurants', 'Small Batch', 'Spaces', 'Vegan']\n",
    "games_meta = ['Games', 'Gaming Hardware', 'Live Games', 'Mobile Games', 'Playing Cards', 'Puzzles', 'Tabletop Games', 'Video Games']\n",
    "journalism_meta = ['Journalism', 'Audio', 'Photo', 'Print', 'Video', 'Web']\n",
    "music_meta = ['Music', 'Blues', 'Chiptune', 'Classical Music', 'Comedy', 'Country &amp; Folk', 'Electronic Music', 'Faith', 'Hip-Hop', 'Indie Rock', 'Jazz', 'Kids', 'Latin', 'Metal', 'Pop', 'Punk', 'R&amp;B', 'Rock', 'World Music']\n",
    "photography_meta = ['Photography', 'Animals', 'Fine Art', 'Nature', 'People', 'Photobooks', 'Places']\n",
    "publishing_meta = ['Publishing', 'Academic', 'Art Books', 'Calendars', 'Children&#39;s Books', 'Comedy', 'Fiction', 'Letterpress', 'Literary Journals', 'Literary Spaces', 'Nonfiction', 'Periodicals', 'Poetry', 'Radio &amp; Podcasts', 'Translations', 'Young Adult', 'Zines']\n",
    "technology_meta = ['Technology', '3D Printing', 'Apps', 'Camera Equipment', 'DIY Electronics', 'Fabrication Tools', 'Flight', 'Gadgets', 'Hardware', 'Makerspaces', 'Robots', 'Software', 'Sound', 'Space Exploration', 'Wearables', 'Web']\n",
    "theater_meta = ['Theater','Comedy', 'Experimental', 'Festivals', 'Immersive', 'Musical', 'Plays']\n",
    "\n",
    "meta_categories = [art_meta, comics_meta, crafts_meta, dance_meta, design_meta, fashion_meta, film_meta, food_meta, games_meta, journalism_meta, music_meta, photography_meta, publishing_meta, technology_meta, theater_meta]\n",
    "cat_df_dict = {}\n",
    "for category in meta_categories:\n",
    "  df_1 = raw_df[raw_df['Category'].isin(category)]\n",
    "  cat_df_dict.update( {str(category[0]): df_1} )"
   ]
  },
  {
   "cell_type": "code",
   "execution_count": 44,
   "metadata": {},
   "outputs": [
    {
     "name": "stdout",
     "output_type": "stream",
     "text": [
      "Art category has 8916 rows\n",
      "Comics category has 1925 rows\n",
      "Crafts category has 1728 rows\n",
      "Dance category has 1682 rows\n",
      "Design category has 3588 rows\n",
      "Fashion category has 2112 rows\n",
      "Film category has 8824 rows\n",
      "Food category has 1761 rows\n",
      "Games category has 5165 rows\n",
      "Journalism category has 1011 rows\n",
      "Music category has 9651 rows\n",
      "Photography category has 1777 rows\n",
      "Publishing category has 6677 rows\n",
      "Technology category has 4089 rows\n",
      "Theater category has 1707 rows\n"
     ]
    }
   ],
   "source": [
    "# exploring category numbers\n",
    "for key in cat_df_dict:\n",
    "  print(key + ' category has ' + str(len(cat_df_dict[key])) + ' rows')"
   ]
  },
  {
   "cell_type": "markdown",
   "metadata": {},
   "source": [
    "## Subsampling dataset\n",
    "According to [statista.com](https://www.statista.com/statistics/222455/amount-of-dollars-pledged-per-category-on-kickstarter/), the three most funded categories were *Games*, *Design*, and *Technology*, so we will focus our efforts on these. We will test descriptive stats to figure out the best subsampling strategy."
   ]
  },
  {
   "cell_type": "code",
   "execution_count": 91,
   "metadata": {},
   "outputs": [],
   "source": [
    "def generate_descriptive_statistics(dataframe):\n",
    "    name =[x for x in globals() if globals()[x] is dataframe][0]\n",
    "    mean_of_cont = dataframe['pledged_percentage'].mean()\n",
    "    var_of_cont = dataframe.var()['pledged_percentage']\n",
    "    std_of_cont = dataframe.std()['pledged_percentage']\n",
    "    binary_ratio = float(dataframe['pledged_binary'].value_counts()[0])/float(dataframe['pledged_binary'].value_counts()[1])\n",
    "    print('----------------------')\n",
    "    print('in the ', name, 'dataframe the  ratio of the binary target counts:')\n",
    "    print(binary_ratio)\n",
    "    print('in the ', name, 'dataframe the mean of cont. target var: ', mean_of_cont, ', std: ', std_of_cont)\n"
   ]
  },
  {
   "cell_type": "code",
   "execution_count": 110,
   "metadata": {},
   "outputs": [],
   "source": [
    "games_df = cat_df_dict['Games']\n",
    "games_sub = games_df.sample(n=3500)"
   ]
  },
  {
   "cell_type": "code",
   "execution_count": 111,
   "metadata": {},
   "outputs": [
    {
     "name": "stdout",
     "output_type": "stream",
     "text": [
      "----------------------\n",
      "in the  games_df dataframe the  ratio of the binary target counts:\n",
      "0.10127931769722814\n",
      "in the  games_df dataframe the mean of cont. target var:  21.8255945773875 , std:  638.9184219503052\n",
      "----------------------\n",
      "in the  games_sub dataframe the  ratio of the binary target counts:\n",
      "0.10270951480781348\n",
      "in the  games_sub dataframe the mean of cont. target var:  19.309524954583196 , std:  704.8549737286678\n"
     ]
    },
    {
     "name": "stderr",
     "output_type": "stream",
     "text": [
      "C:\\Users\\bocsa\\AppData\\Local\\Temp/ipykernel_32820/4179898495.py:4: FutureWarning: Dropping of nuisance columns in DataFrame reductions (with 'numeric_only=None') is deprecated; in a future version this will raise TypeError.  Select only valid columns before calling the reduction.\n",
      "  var_of_cont = dataframe.var()['pledged_percentage']\n",
      "C:\\Users\\bocsa\\AppData\\Local\\Temp/ipykernel_32820/4179898495.py:5: FutureWarning: Dropping of nuisance columns in DataFrame reductions (with 'numeric_only=None') is deprecated; in a future version this will raise TypeError.  Select only valid columns before calling the reduction.\n",
      "  std_of_cont = dataframe.std()['pledged_percentage']\n"
     ]
    }
   ],
   "source": [
    "generate_descriptive_statistics(games_df)\n",
    "generate_descriptive_statistics(games_sub)"
   ]
  },
  {
   "cell_type": "code",
   "execution_count": null,
   "metadata": {},
   "outputs": [],
   "source": [
    "design_df = cat_df_dict['Design']\n",
    "design_sub = design_df.sample(n=3500)"
   ]
  },
  {
   "cell_type": "code",
   "execution_count": 95,
   "metadata": {},
   "outputs": [
    {
     "name": "stdout",
     "output_type": "stream",
     "text": [
      "----------------------\n",
      "in the  design_df dataframe the  ratio of the binary target counts:\n",
      "0.20281595709017766\n",
      "in the  design_df dataframe the mean of cont. target var:  6.24611912653669 , std:  24.3941190415017\n",
      "----------------------\n",
      "in the  design_sub dataframe the  ratio of the binary target counts:\n",
      "0.2006861063464837\n",
      "in the  design_sub dataframe the mean of cont. target var:  6.263030799771488 , std:  24.60503939955467\n"
     ]
    },
    {
     "name": "stderr",
     "output_type": "stream",
     "text": [
      "C:\\Users\\bocsa\\AppData\\Local\\Temp/ipykernel_32820/4179898495.py:4: FutureWarning: Dropping of nuisance columns in DataFrame reductions (with 'numeric_only=None') is deprecated; in a future version this will raise TypeError.  Select only valid columns before calling the reduction.\n",
      "  var_of_cont = dataframe.var()['pledged_percentage']\n",
      "C:\\Users\\bocsa\\AppData\\Local\\Temp/ipykernel_32820/4179898495.py:5: FutureWarning: Dropping of nuisance columns in DataFrame reductions (with 'numeric_only=None') is deprecated; in a future version this will raise TypeError.  Select only valid columns before calling the reduction.\n",
      "  std_of_cont = dataframe.std()['pledged_percentage']\n"
     ]
    }
   ],
   "source": [
    "generate_descriptive_statistics(design_df)\n",
    "generate_descriptive_statistics(design_sub)"
   ]
  },
  {
   "cell_type": "code",
   "execution_count": 96,
   "metadata": {},
   "outputs": [],
   "source": [
    "tech_df = cat_df_dict['Technology']\n",
    "tech_sub = tech_df.sample(n=3500)"
   ]
  },
  {
   "cell_type": "code",
   "execution_count": 97,
   "metadata": {},
   "outputs": [
    {
     "name": "stdout",
     "output_type": "stream",
     "text": [
      "----------------------\n",
      "in the  tech_df dataframe the  ratio of the binary target counts:\n",
      "0.3076431084106172\n",
      "in the  tech_df dataframe the mean of cont. target var:  4.229911844795767 , std:  26.097965303366713\n",
      "----------------------\n",
      "in the  tech_sub dataframe the  ratio of the binary target counts:\n",
      "0.3049962714392245\n",
      "in the  tech_sub dataframe the mean of cont. target var:  4.2240070472287155 , std:  27.812399716918126\n"
     ]
    },
    {
     "name": "stderr",
     "output_type": "stream",
     "text": [
      "C:\\Users\\bocsa\\AppData\\Local\\Temp/ipykernel_32820/4179898495.py:4: FutureWarning: Dropping of nuisance columns in DataFrame reductions (with 'numeric_only=None') is deprecated; in a future version this will raise TypeError.  Select only valid columns before calling the reduction.\n",
      "  var_of_cont = dataframe.var()['pledged_percentage']\n",
      "C:\\Users\\bocsa\\AppData\\Local\\Temp/ipykernel_32820/4179898495.py:5: FutureWarning: Dropping of nuisance columns in DataFrame reductions (with 'numeric_only=None') is deprecated; in a future version this will raise TypeError.  Select only valid columns before calling the reduction.\n",
      "  std_of_cont = dataframe.std()['pledged_percentage']\n"
     ]
    }
   ],
   "source": [
    "generate_descriptive_statistics(tech_df)\n",
    "generate_descriptive_statistics(tech_sub)"
   ]
  },
  {
   "cell_type": "code",
   "execution_count": 112,
   "metadata": {},
   "outputs": [],
   "source": [
    "games_sub.to_csv('../data/raw_games_data.csv')\n",
    "design_sub.to_csv('../data/raw_design_data.csv')\n",
    "tech_sub.to_csv('../data/raw_tech_data.csv')"
   ]
  },
  {
   "cell_type": "markdown",
   "metadata": {},
   "source": [
    "## Text preprocessing\n",
    "\n",
    "The preprocessing will be done using the following function but we run it on a vm to make it faster."
   ]
  },
  {
   "cell_type": "code",
   "execution_count": 14,
   "metadata": {},
   "outputs": [],
   "source": [
    "def preprocess(text):\n",
    "    if isinstance(text, str):\n",
    "        lemmatizer = WordNetLemmatizer()\n",
    "        text = text.strip()\n",
    "        result = \"\"\n",
    "        punctless = re.sub('[^a-zA-Z0-9]', ' ', text)\n",
    "        lowercase = punctless.lower()\n",
    "        words_list = lowercase.split()\n",
    "        words_list =  [ lemmatizer.lemmatize(word) for word in words_list if not word in set(stopwords.words('english')) ]\n",
    "        for word in words_list:\n",
    "            result += \" \" + word.strip()\n",
    "        return result\n",
    "    else: return ''"
   ]
  },
  {
   "cell_type": "markdown",
   "metadata": {},
   "source": [
    "## TO DO: joining CLEAN datasets with pledge table data, and add in 'Staff_Recommended' variable"
   ]
  },
  {
   "cell_type": "code",
   "execution_count": null,
   "metadata": {},
   "outputs": [],
   "source": []
  }
 ],
 "metadata": {
  "interpreter": {
   "hash": "d21e30d667f5e24803d3c5fbd4b8ec31db55c536dc2390ac68f528c86e0b6db0"
  },
  "kernelspec": {
   "display_name": "Python 3.9.6 64-bit ('jads-r5c3IsT5': pipenv)",
   "name": "python3"
  },
  "language_info": {
   "codemirror_mode": {
    "name": "ipython",
    "version": 3
   },
   "file_extension": ".py",
   "mimetype": "text/x-python",
   "name": "python",
   "nbconvert_exporter": "python",
   "pygments_lexer": "ipython3",
   "version": "3.9.6"
  },
  "orig_nbformat": 4
 },
 "nbformat": 4,
 "nbformat_minor": 2
}

{
 "cells": [
  {
   "cell_type": "code",
   "execution_count": 2,
   "metadata": {},
   "outputs": [],
   "source": [
    "import pandas as pd"
   ]
  },
  {
   "cell_type": "code",
   "execution_count": 3,
   "metadata": {},
   "outputs": [],
   "source": [
    "design_df = pd.read_csv('../data/design_stm_theta_with_meta.csv', index_col=0).reset_index(drop=True).drop(columns=['clean_text'])\n",
    "games_df = pd.read_csv('../data/games_stm_theta_with_meta.csv', index_col=0).reset_index(drop=True).drop(columns=['clean_text'])\n",
    "tech_df = pd.read_csv('../data/tech_stm_theta_with_meta.csv', index_col=0).reset_index(drop=True).drop(columns=['clean_text'])\n"
   ]
  },
  {
   "cell_type": "code",
   "execution_count": 4,
   "metadata": {},
   "outputs": [],
   "source": [
    "clean_design_data = pd.read_csv('../data/clean_design_data.csv', index_col=0).drop(columns=['clean_text'])\n",
    "clean_games_data = pd.read_csv('../data/clean_games_data.csv', index_col=0).drop(columns=['clean_text'])\n",
    "clean_tech_data = pd.read_csv('../data/clean_tech_data.csv', index_col=0).drop(columns=['clean_text'])"
   ]
  },
  {
   "cell_type": "markdown",
   "metadata": {},
   "source": [
    "# Getting distance from average of projects\n",
    "  we will be using Manhattan distance, since that is the best for high dimensional data"
   ]
  },
  {
   "cell_type": "code",
   "execution_count": 5,
   "metadata": {},
   "outputs": [],
   "source": [
    "from scipy.spatial.distance import pdist, cityblock, cosine\n",
    "import numpy as np\n",
    "\n",
    "def get_degree_of_diff(dataframe):\n",
    "    avg = []\n",
    "    for column in dataframe.columns[4:]:\n",
    "        avg.append(dataframe[column].mean())\n",
    "\n",
    "    dataframe['degree_of_diff'] = dataframe.apply( lambda x: pdist(np.array([avg, x.iloc[4: ].values.tolist()]), metric='cityblock'), axis=1)\n",
    "\n",
    "    return dataframe"
   ]
  },
  {
   "cell_type": "code",
   "execution_count": 6,
   "metadata": {},
   "outputs": [],
   "source": [
    "design_df = get_degree_of_diff(design_df)\n",
    "games_df = get_degree_of_diff(games_df)\n",
    "tech_df = get_degree_of_diff(tech_df)\n"
   ]
  },
  {
   "cell_type": "code",
   "execution_count": 7,
   "metadata": {},
   "outputs": [],
   "source": [
    "final_desing = pd.merge(design_df, clean_design_data, on=['launch_date', 'location', 'Category'], how='inner')\n",
    "final_games = pd.merge(games_df, clean_games_data, on=['launch_date', 'location', 'Category'], how='inner')\n",
    "final_tech = pd.merge(tech_df, clean_tech_data, on=['launch_date', 'location', 'Category'], how='inner')"
   ]
  },
  {
   "cell_type": "code",
   "execution_count": 8,
   "metadata": {},
   "outputs": [],
   "source": [
    "col_1 = ['project_slug','location', 'Category', 'launch_date', 'degree_of_diff',\n",
    "       'Number_Backers', 'Creator_nb_projects', 'top_country',\n",
    "        'Staff_recommended', 'pledged_percentage', 'pledged_binary', 'Goal_USD', 'Pledge_USD', '1', '2', '3', '4', '5', '6',\n",
    "       '7', '8', '9', '10', '11', '12', '13', '14', '15', '16', '17', '18',\n",
    "       '19', '20', '21', '22', '23', '24', '25', '26', '27', '28', '29', '30',\n",
    "       '31', '32', '33', '34', '35', '36', '37', '38', '39', '40', '41', '42',\n",
    "       '43', '44', '45', '46', '47', '48', '49', '50']\n",
    "final_desing = final_desing[col_1]\n",
    "final_games = final_games[col_1]\n",
    "final_tech = final_tech[col_1]\n",
    "\n"
   ]
  },
  {
   "cell_type": "code",
   "execution_count": 9,
   "metadata": {},
   "outputs": [
    {
     "data": {
      "text/plain": [
       "Index(['project_slug', 'location', 'Category', 'launch_date', 'degree_of_diff',\n",
       "       'Number_Backers', 'Creator_nb_projects', 'top_country',\n",
       "       'Staff_recommended', 'pledged_percentage', 'pledged_binary', 'Goal_USD',\n",
       "       'Pledge_USD', '1', '2', '3', '4', '5', '6', '7', '8', '9', '10', '11',\n",
       "       '12', '13', '14', '15', '16', '17', '18', '19', '20', '21', '22', '23',\n",
       "       '24', '25', '26', '27', '28', '29', '30', '31', '32', '33', '34', '35',\n",
       "       '36', '37', '38', '39', '40', '41', '42', '43', '44', '45', '46', '47',\n",
       "       '48', '49', '50'],\n",
       "      dtype='object')"
      ]
     },
     "execution_count": 9,
     "metadata": {},
     "output_type": "execute_result"
    }
   ],
   "source": [
    "final_desing.columns"
   ]
  },
  {
   "cell_type": "code",
   "execution_count": 10,
   "metadata": {},
   "outputs": [],
   "source": [
    "final_tech.to_csv('../data/final_tech.csv')\n",
    "final_desing.to_csv('../data/final_design.csv')\n",
    "final_games.to_csv('../data/final_games.csv')"
   ]
  },
  {
   "cell_type": "code",
   "execution_count": null,
   "metadata": {},
   "outputs": [],
   "source": []
  }
 ],
 "metadata": {
  "interpreter": {
   "hash": "50b49e20057f3a7e81fdb0ef9c9e825a89cbcee76dc07b8960c96898f1e40eec"
  },
  "kernelspec": {
   "display_name": "Python 3.9.6 64-bit",
   "language": "python",
   "name": "python3"
  },
  "language_info": {
   "codemirror_mode": {
    "name": "ipython",
    "version": 3
   },
   "file_extension": ".py",
   "mimetype": "text/x-python",
   "name": "python",
   "nbconvert_exporter": "python",
   "pygments_lexer": "ipython3",
   "version": "3.9.6"
  },
  "orig_nbformat": 4
 },
 "nbformat": 4,
 "nbformat_minor": 2
}

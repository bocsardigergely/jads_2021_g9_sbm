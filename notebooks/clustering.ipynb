{
 "cells": [
  {
   "cell_type": "code",
   "execution_count": 95,
   "metadata": {},
   "outputs": [],
   "source": [
    "import pandas as pd\n",
    "import numpy as np\n",
    "import matplotlib.pyplot as plt\n",
    "from sklearn.cluster import DBSCAN\n",
    "\n",
    "#change before running notebook on respective dataset\n",
    "name = 'tech'"
   ]
  },
  {
   "cell_type": "code",
   "execution_count": 96,
   "metadata": {},
   "outputs": [],
   "source": [
    "raw_df = pd.read_csv('../data/final_' + name +'.csv', index_col=0)\n",
    "src_df = pd.read_csv('../data/all_project_week_19_32.csv')\n",
    "src_df = src_df[['project_slug', 'Pledge_USD']]\n",
    "raw_df = raw_df.merge(src_df, on='project_slug', how='inner')\n",
    "raw_df['avg_pledge'] = raw_df.apply( lambda row: row['Pledge_USD']/row['Number_Backers'] , axis=1)\n"
   ]
  },
  {
   "cell_type": "code",
   "execution_count": 97,
   "metadata": {},
   "outputs": [
    {
     "data": {
      "text/plain": [
       "labels\n",
       "-1     2583\n",
       " 0      144\n",
       " 6      121\n",
       " 1      120\n",
       " 7       91\n",
       " 10      51\n",
       "dtype: int64"
      ]
     },
     "execution_count": 97,
     "metadata": {},
     "output_type": "execute_result"
    }
   ],
   "source": [
    "dbscan = DBSCAN(metric='manhattan',  n_jobs=-1, eps=.5)\n",
    "labels = dbscan.fit_predict(raw_df[['1', '2',\n",
    "       '3', '4', '5', '6', '7', '8', '9', '10', '11', '12', '13', '14', '15',\n",
    "       '16', '17', '18', '19', '20', '21', '22', '23', '24', '25', '26', '27',\n",
    "       '28', '29', '30', '31', '32', '33', '34', '35', '36', '37', '38', '39',\n",
    "       '40', '41', '42', '43', '44', '45', '46', '47', '48', '49', '50']])\n",
    "raw_df['labels'] = labels\n",
    "raw_df.groupby('labels').size().sort_values(ascending=False).head(6)"
   ]
  },
  {
   "cell_type": "code",
   "execution_count": 98,
   "metadata": {},
   "outputs": [],
   "source": [
    "useful_labels = [6,1,0]"
   ]
  },
  {
   "cell_type": "code",
   "execution_count": 99,
   "metadata": {},
   "outputs": [],
   "source": [
    "export_df = raw_df[ raw_df['labels'].isin(useful_labels)].drop(columns=['1', '2',\n",
    "       '3', '4', '5', '6', '7', '8', '9', '10', '11', '12', '13', '14', '15',\n",
    "       '16', '17', '18', '19', '20', '21', '22', '23', '24', '25', '26', '27',\n",
    "       '28', '29', '30', '31', '32', '33', '34', '35', '36', '37', '38', '39',\n",
    "       '40', '41', '42', '43', '44', '45', '46', '47', '48', '49', '50','pledged_percentage', 'degree_of_diff', 'Pledge_USD', 'Number_Backers'])\n",
    "export_df.to_csv('../data/vertical_' + name + '.csv')"
   ]
  },
  {
   "cell_type": "code",
   "execution_count": null,
   "metadata": {},
   "outputs": [],
   "source": []
  }
 ],
 "metadata": {
  "interpreter": {
   "hash": "50b49e20057f3a7e81fdb0ef9c9e825a89cbcee76dc07b8960c96898f1e40eec"
  },
  "kernelspec": {
   "display_name": "Python 3.9.6 64-bit",
   "language": "python",
   "name": "python3"
  },
  "language_info": {
   "codemirror_mode": {
    "name": "ipython",
    "version": 3
   },
   "file_extension": ".py",
   "mimetype": "text/x-python",
   "name": "python",
   "nbconvert_exporter": "python",
   "pygments_lexer": "ipython3",
   "version": "3.9.6"
  },
  "orig_nbformat": 4
 },
 "nbformat": 4,
 "nbformat_minor": 2
}
